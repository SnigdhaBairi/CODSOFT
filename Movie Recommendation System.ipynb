{
  "nbformat": 4,
  "nbformat_minor": 0,
  "metadata": {
    "colab": {
      "provenance": []
    },
    "kernelspec": {
      "name": "python3",
      "display_name": "Python 3"
    },
    "language_info": {
      "name": "python"
    }
  },
  "cells": [
    {
      "cell_type": "code",
      "execution_count": 1,
      "metadata": {
        "colab": {
          "base_uri": "https://localhost:8080/"
        },
        "id": "CHVjkcbuPz_K",
        "outputId": "a97361bc-b403-4d92-fda4-eb4c6b8aaf2d"
      },
      "outputs": [
        {
          "output_type": "stream",
          "name": "stdout",
          "text": [
            "Recommendations for User 1:\n"
          ]
        }
      ],
      "source": [
        "import numpy as np\n",
        "\n",
        "# Sample user-item ratings data (UserID, ItemID, Rating)\n",
        "ratings = np.array([\n",
        "    [1, 101, 5],\n",
        "    [1, 102, 4],\n",
        "    [2, 101, 3],\n",
        "    [2, 102, 5],\n",
        "    [3, 102, 2]\n",
        "])\n",
        "\n",
        "# Create a user-item matrix\n",
        "num_users = np.max(ratings[:, 0])\n",
        "num_items = np.max(ratings[:, 1])\n",
        "\n",
        "matrix = np.zeros((num_users, num_items))\n",
        "for rating in ratings:\n",
        "    matrix[rating[0] - 1, rating[1] - 1] = rating[2]\n",
        "\n",
        "# Function to calculate similarity between users using cosine similarity\n",
        "def cosine_similarity(user1, user2):\n",
        "    return np.dot(user1, user2) / (np.linalg.norm(user1) * np.linalg.norm(user2))\n",
        "\n",
        "# Function to recommend items to a user based on collaborative filtering\n",
        "def recommend_collaborative(user_id, matrix, num_recommendations=2):\n",
        "    user_ratings = matrix[user_id - 1]\n",
        "\n",
        "    # Calculate similarities between the target user and all other users\n",
        "    similarities = [cosine_similarity(user_ratings, matrix[i]) for i in range(num_users)]\n",
        "\n",
        "    # Sort users by similarity (descending)\n",
        "    similar_users = np.argsort(similarities)[::-1]\n",
        "\n",
        "    # Find items that the target user hasn't rated but similar users have\n",
        "    recommendations = []\n",
        "    for item_id in range(num_items):\n",
        "        if user_ratings[item_id] == 0:\n",
        "            weighted_sum = 0\n",
        "            similarity_sum = 0\n",
        "            for sim_user in similar_users:\n",
        "                if matrix[sim_user][item_id] > 0:\n",
        "                    weighted_sum += matrix[sim_user][item_id] * similarities[sim_user]\n",
        "                    similarity_sum += np.abs(similarities[sim_user])\n",
        "            if similarity_sum > 0:\n",
        "                predicted_rating = weighted_sum / similarity_sum\n",
        "                recommendations.append((item_id + 1, predicted_rating))\n",
        "\n",
        "    # Sort recommendations by predicted rating (descending)\n",
        "    recommendations.sort(key=lambda x: x[1], reverse=True)\n",
        "\n",
        "    return recommendations[:num_recommendations]\n",
        "\n",
        "# Example usage\n",
        "user_id = 1\n",
        "recommendations = recommend_collaborative(user_id, matrix, num_recommendations=2)\n",
        "print(f\"Recommendations for User {user_id}:\")\n",
        "for item_id, predicted_rating in recommendations:\n",
        "    print(f\"Item {item_id}, Predicted Rating: {predicted_rating}\")\n"
      ]
    },
    {
      "cell_type": "code",
      "source": [
        "# Sample movie data (ItemID, Title, Genre)\n",
        "movies = [\n",
        "    (101, \"Movie A\", \"Action, Adventure\"),\n",
        "    (102, \"Movie B\", \"Comedy, Romance\"),\n",
        "    (103, \"Movie C\", \"Action, Sci-Fi\"),\n",
        "    (104, \"Movie D\", \"Comedy, Drama\")\n",
        "]\n",
        "\n",
        "# Sample user-item ratings data (UserID, ItemID, Rating)\n",
        "ratings = [\n",
        "    (1, 101, 5),\n",
        "    (1, 102, 4),\n",
        "    (2, 101, 3),\n",
        "    (2, 103, 5),\n",
        "    (3, 102, 2)\n",
        "]\n",
        "\n",
        "# User preferences (e.g., User 1 likes Action movies)\n",
        "user_preferences = {\"User 1\": \"Action\"}\n",
        "\n",
        "# Function to recommend items to a user based on content-based filtering\n",
        "def recommend_content_based(user_id, ratings, movies, user_preferences, num_recommendations=2):\n",
        "    rated_items = [item_id for _, item_id, _ in ratings if _ == user_id]\n",
        "    recommendations = []\n",
        "\n",
        "    for movie_id, title, genres in movies:\n",
        "        if movie_id not in rated_items:\n",
        "            genre_similarity = len(set(genres.split(', ')) & set(user_preferences[user_id].split(', ')))\n",
        "            recommendations.append((movie_id, title, genre_similarity))\n",
        "\n",
        "    # Sort recommendations by genre similarity (descending)\n",
        "    recommendations.sort(key=lambda x: x[2], reverse=True)\n",
        "\n",
        "    return recommendations[:num_recommendations]\n",
        "\n",
        "# Example usage\n",
        "user_id = \"User 1\"\n",
        "recommendations = recommend_content_based(user_id, ratings, movies, user_preferences, num_recommendations=2)\n",
        "print(f\"Recommendations for {user_id}:\")\n",
        "for movie_id, title, genre_similarity in recommendations:\n",
        "    print(f\"Movie: {title}, Genre Similarity: {genre_similarity}\")\n"
      ],
      "metadata": {
        "colab": {
          "base_uri": "https://localhost:8080/"
        },
        "id": "ppTdAP7nP2mc",
        "outputId": "12d546d8-0c7a-44ef-ae8d-160b42f69ad0"
      },
      "execution_count": 2,
      "outputs": [
        {
          "output_type": "stream",
          "name": "stdout",
          "text": [
            "Recommendations for User 1:\n",
            "Movie: Movie A, Genre Similarity: 1\n",
            "Movie: Movie C, Genre Similarity: 1\n"
          ]
        }
      ]
    }
  ]
}