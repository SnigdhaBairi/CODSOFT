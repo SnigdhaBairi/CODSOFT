{
  "nbformat": 4,
  "nbformat_minor": 0,
  "metadata": {
    "colab": {
      "provenance": []
    },
    "kernelspec": {
      "name": "python3",
      "display_name": "Python 3"
    },
    "language_info": {
      "name": "python"
    }
  },
  "cells": [
    {
      "cell_type": "code",
      "execution_count": 1,
      "metadata": {
        "colab": {
          "base_uri": "https://localhost:8080/"
        },
        "id": "90MiI9WvPLah",
        "outputId": "29d37d40-ecc6-4c93-b473-498b2236b3af"
      },
      "outputs": [
        {
          "output_type": "stream",
          "name": "stdout",
          "text": [
            "Simple Rule-Based Chatbot\n",
            "Chatbot: Greetings! How may I help you?\n",
            "You: what is the weather in india today?\n",
            "You: Which city would you like to know the weather for? hyderabad\n",
            "Chatbot: The weather in Hyderabad is currently snowy with a temperature of 99°F.\n",
            "You: exit\n",
            "Chatbot: Goodbye! Have a great day!\n"
          ]
        }
      ],
      "source": [
        "import random\n",
        "\n",
        "# Define a function to greet the user\n",
        "def greet():\n",
        "    responses = [\"Hello! How can I assist you today?\", \"Hi there! What can I do for you?\", \"Greetings! How may I help you?\"]\n",
        "    return random.choice(responses)\n",
        "\n",
        "# Define a function to provide weather information\n",
        "def get_weather(city):\n",
        "    # You can replace this with an actual weather API call\n",
        "    # For simplicity, we'll generate random weather conditions\n",
        "    weather_conditions = [\"sunny\", \"cloudy\", \"rainy\", \"windy\", \"snowy\"]\n",
        "    temperature = random.randint(50, 100)  # Temperature in Fahrenheit\n",
        "\n",
        "    response = f\"The weather in {city} is currently {random.choice(weather_conditions)} with a temperature of {temperature}°F.\"\n",
        "    return response\n",
        "\n",
        "# Main function to handle user input and responses\n",
        "def chatbot():\n",
        "    print(\"Chatbot: \" + greet())\n",
        "\n",
        "    while True:\n",
        "        user_input = input(\"You: \").lower()\n",
        "\n",
        "        if \"hello\" in user_input or \"hi\" in user_input:\n",
        "            print(\"Chatbot: \" + greet())\n",
        "        elif \"weather\" in user_input:\n",
        "            city = input(\"You: Which city would you like to know the weather for? \").capitalize()\n",
        "            print(\"Chatbot: \" + get_weather(city))\n",
        "        elif \"bye\" in user_input or \"exit\" in user_input:\n",
        "            print(\"Chatbot: Goodbye! Have a great day!\")\n",
        "            break\n",
        "        else:\n",
        "            print(\"Chatbot: I'm not sure how to respond to that. Please ask me about the weather or say goodbye.\")\n",
        "\n",
        "# Start the chatbot\n",
        "if __name__ == \"__main__\":\n",
        "    print(\"Simple Rule-Based Chatbot\")\n",
        "    chatbot()\n"
      ]
    }
  ]
}