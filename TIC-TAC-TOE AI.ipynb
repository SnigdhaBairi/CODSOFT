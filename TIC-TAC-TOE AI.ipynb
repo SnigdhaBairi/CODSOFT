{
  "nbformat": 4,
  "nbformat_minor": 0,
  "metadata": {
    "colab": {
      "provenance": [],
      "authorship_tag": "ABX9TyPxqZGSvz1Il2xXz1SgIbZu",
      "include_colab_link": true
    },
    "kernelspec": {
      "name": "python3",
      "display_name": "Python 3"
    },
    "language_info": {
      "name": "python"
    }
  },
  "cells": [
    {
      "cell_type": "markdown",
      "metadata": {
        "id": "view-in-github",
        "colab_type": "text"
      },
      "source": [
        "<a href=\"https://colab.research.google.com/github/SnigdhaBairi/CODSOFT/blob/main/TIC-TAC-TOE%20AI.ipynb\" target=\"_parent\"><img src=\"https://colab.research.google.com/assets/colab-badge.svg\" alt=\"Open In Colab\"/></a>"
      ]
    },
    {
      "cell_type": "code",
      "execution_count": 3,
      "metadata": {
        "colab": {
          "base_uri": "https://localhost:8080/"
        },
        "id": "d6ZbqHgHPpuY",
        "outputId": "24cdc06c-86f2-4ac0-f092-600abc4d1ee2"
      },
      "outputs": [
        {
          "output_type": "stream",
          "name": "stdout",
          "text": [
            "Simple Rule-Based Chatbot\n",
            "     \n",
            "     \n",
            "     \n",
            "Enter your move (row and column): 1 1 \n",
            "     \n",
            "  X  \n",
            "     \n",
            "AI's turn:\n",
            "O    \n",
            "  X  \n",
            "     \n",
            "Enter your move (row and column): 2 2 \n",
            "O    \n",
            "  X  \n",
            "    X\n",
            "AI's turn:\n",
            "O   O\n",
            "  X  \n",
            "    X\n",
            "Enter your move (row and column):  1 2\n",
            "O   O\n",
            "  X X\n",
            "    X\n",
            "AI's turn:\n",
            "O O O\n",
            "  X X\n",
            "    X\n",
            "AI wins!\n"
          ]
        }
      ],
      "source": [
        "# Main game loop\n",
        "def play_game():\n",
        "    board = [[EMPTY, EMPTY, EMPTY],\n",
        "             [EMPTY, EMPTY, EMPTY],\n",
        "             [EMPTY, EMPTY, EMPTY]]\n",
        "    current_player = HUMAN\n",
        "\n",
        "    while not is_game_over(board):\n",
        "        print_board(board)\n",
        "        if current_player == HUMAN:\n",
        "            try:\n",
        "                row, col = map(int, input(\"Enter your move (row and column): \").split())\n",
        "                if 0 <= row < 3 and 0 <= col < 3 and board[row][col] == EMPTY:\n",
        "                    board[row][col] = HUMAN\n",
        "                else:\n",
        "                    print(\"Invalid move. Try again.\")\n",
        "                    continue\n",
        "            except ValueError:\n",
        "                print(\"Invalid input. Please enter row and column as integers.\")\n",
        "                continue\n",
        "        else:\n",
        "            print(\"AI's turn:\")\n",
        "            best_move = find_best_move(board)\n",
        "            board[best_move[0]][best_move[1]] = AI\n",
        "\n",
        "        current_player *= -1\n",
        "\n",
        "    print_board(board)\n",
        "    if check_win(board, HUMAN):\n",
        "        print(\"Congratulations! You win.\")\n",
        "    elif check_win(board, AI):\n",
        "        print(\"AI wins!\")\n",
        "    else:\n",
        "        print(\"It's a draw!\")\n",
        "\n",
        "# Start the game\n",
        "if __name__ == \"__main__\":\n",
        "    print(\"Simple Rule-Based Chatbot\")\n",
        "    play_game()\n"
      ]
    }
  ]
}